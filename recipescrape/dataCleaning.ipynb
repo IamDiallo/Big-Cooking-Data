{
 "cells": [
  {
   "cell_type": "code",
   "execution_count": 130,
   "metadata": {},
   "outputs": [],
   "source": [
    "import pandas\n",
    "import csv\n",
    "import numpy as np\n",
    "import ast"
   ]
  },
  {
   "cell_type": "code",
   "execution_count": 131,
   "metadata": {},
   "outputs": [],
   "source": [
    "colnames = ['ingredients']\n",
    "data = pandas.read_csv('test.csv', usecols=colnames)"
   ]
  },
  {
   "cell_type": "code",
   "execution_count": 136,
   "metadata": {},
   "outputs": [
    {
     "data": {
      "text/plain": [
       "array(['[[\\'tomates\\', \\'5\\'], [\\'tomates\\', \\'5\\'], [\\'citrons\\', \\'4\\'], [\\'oignon\\', \\'⁄\\'], [\\'coriandre\\', \\'⁄\\'], [\"huile d\\'olive\", \\'3\\'], [\\'olives\\', \\'empty\\'], [\\'origan\\', \\'1\\'], [\\'sel\\', \\'1\\'], [\\'poisson\\', \\'500\\'], [\\'avocat\\', \\'1\\']]'],\n",
       "      dtype=object)"
      ]
     },
     "execution_count": 136,
     "metadata": {},
     "output_type": "execute_result"
    }
   ],
   "source": [
    "data.dtypes\n",
    "test = np.array(data)"
   ]
  },
  {
   "cell_type": "code",
   "execution_count": null,
   "metadata": {},
   "outputs": [],
   "source": [
    "\"Key\": [{'a':2,'b':3},{'a':2,'b':3}]\n",
    "    #data.dtypes\n",
    "ingre_table = data.to_numpy()\n",
    "data = [data.replace('\"', '') for i in data] # remove quote from each element"
   ]
  },
  {
   "cell_type": "code",
   "execution_count": null,
   "metadata": {},
   "outputs": [],
   "source": [
    "ingre = [\n",
    " {'id_ingre': 0, 'nom_ingre': 'poireau', 'quantity': '1', 'image_ingre': 'https://assets.afcdn.com/recipe/20170607/67489_w96h96c1cx350cy350.jpg'},\n",
    " {'id_ingre': 1, 'nom_ingre': 'poireau', 'quantity': '1', 'image_ingre': 'https://assets.afcdn.com/recipe/20170607/67489_w96h96c1cx350cy350.jpg'}, \n",
    " {'id_ingre': 2, 'nom_ingre': 'carottes', 'quantity': '6', 'image_ingre': 'https://assets.afcdn.com/recipe/20170607/67370_w96h96c1cx350cy350.jpg'}, \n",
    " {'id_ingre': 3, 'nom_ingre': 'céleri', 'quantity': '1', 'image_ingre': 'https://assets.afcdn.com/recipe/20170607/67731_w96h96c1cx350cy350.jpg'},\n",
    " {'id_ingre': 4, 'nom_ingre': 'pommes de terre', 'quantity': '2', 'image_ingre': 'https://assets.afcdn.com/recipe/20170607/67419_w96h96c1cx350cy350.jpg'},\n",
    " {'id_ingre': 5, 'nom_ingre': 'tomates', 'quantity': '2', 'image_ingre': 'https://assets.afcdn.com/recipe/20170607/67459_w96h96c1cx350cy350.jpg'}, \n",
    " {'id_ingre': 6, 'nom_ingre': 'courgette', 'quantity': '1', 'image_ingre': 'https://assets.afcdn.com/recipe/20170607/67437_w96h96c1cx350cy262.jpg'},\n",
    " {'id_ingre': 7, 'nom_ingre': 'oignon', 'quantity': '1', 'image_ingre': 'https://assets.afcdn.com/recipe/20170607/67621_w96h96c1cx350cy350.jpg'}, \n",
    " {'id_ingre': 8, 'nom_ingre': 'crème fraîche', 'quantity': '10', 'image_ingre': 'https://assets.afcdn.com/recipe/20170607/67763_w96h96c1cx350cy350.jpg'}, \n",
    " {'id_ingre': 9, 'nom_ingre': 'beurre', 'quantity': 'empty', 'image_ingre': 'https://assets.afcdn.com/recipe/20201201/115998_w96h96c1cx912cy821cxb1824cyb1643.jpg'},\n",
    " {'id_ingre': 10, 'nom_ingre': 'navet', 'quantity': '1', 'image_ingre': 'https://assets.afcdn.com/recipe/20170607/67703_w96h96c1cx350cy350.jpg'}, \n",
    " {'id_ingre': 11, 'nom_ingre': 'bouillon', 'quantity': '1', 'image_ingre': 'https://assets.afcdn.com/recipe/20170607/67659_w96h96c1cx350cy350.jpg'}]"
   ]
  }
 ],
 "metadata": {
  "kernelspec": {
   "display_name": "Python 3",
   "language": "python",
   "name": "python3"
  },
  "language_info": {
   "codemirror_mode": {
    "name": "ipython",
    "version": 3
   },
   "file_extension": ".py",
   "mimetype": "text/x-python",
   "name": "python",
   "nbconvert_exporter": "python",
   "pygments_lexer": "ipython3",
   "version": "3.8.5"
  }
 },
 "nbformat": 4,
 "nbformat_minor": 4
}
